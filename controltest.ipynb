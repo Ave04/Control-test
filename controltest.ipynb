{
 "cells": [
  {
   "cell_type": "code",
   "execution_count": 1,
   "id": "6b48350d",
   "metadata": {},
   "outputs": [],
   "source": [
    "%matplotlib inline\n",
    "import numpy as np\n",
    "from matplotlib import pyplot as plt"
   ]
  },
  {
   "cell_type": "code",
   "execution_count": 2,
   "id": "dec105c0",
   "metadata": {},
   "outputs": [],
   "source": [
    "mass = 1000\n",
    "vi = 0\n",
    "dt = 0.1\n",
    "cd = 0.1\n",
    "\n",
    "previous_speed = None"
   ]
  },
  {
   "cell_type": "code",
   "execution_count": 3,
   "id": "b81327ed",
   "metadata": {},
   "outputs": [],
   "source": [
    "def velocity(throttle, current):\n",
    "    global previous_speed\n",
    "    #print(throttle, current)\n",
    "    F = throttle - cd * current ** 2\n",
    "    a = F/mass\n",
    "    vf = current + a*dt # + np.random.normal(0, 0.1)\n",
    "    \n",
    "    if previous_speed is not None:\n",
    "        # print(previous_speed, current, vf)\n",
    "        m1 = (current - previous_speed) / dt \n",
    "        m2 = (vf - current) / dt\n",
    "        if m2 != 0:\n",
    "            m3 = 0.9 * m1 + 0.1 * m2\n",
    "            vf = m3 / m2 * (vf-current) + current\n",
    "            # print(vf)\n",
    "\n",
    "    previous_speed = current\n",
    "    \n",
    "    return vf"
   ]
  },
  {
   "cell_type": "code",
   "execution_count": 4,
   "id": "f1806ccd",
   "metadata": {},
   "outputs": [],
   "source": [
    "kp = 100\n",
    "ki = 1.5\n",
    "kd = 50"
   ]
  },
  {
   "cell_type": "code",
   "execution_count": 5,
   "id": "6b59d908",
   "metadata": {},
   "outputs": [],
   "source": [
    "# Variables to store previous values\n",
    "prev_error = 0\n",
    "integral = 0\n",
    "\n",
    "def controller(target_speed, current_speed, dt):\n",
    "    global prev_error, integral  # Keep values across function calls\n",
    "    \n",
    "    # Compute error\n",
    "    error = target_speed - current_speed\n",
    "    \n",
    "    # Proportional term\n",
    "    p = error\n",
    "    \n",
    "    # Integral term (accumulate over time)\n",
    "    integral += error * dt\n",
    "    \n",
    "    # Derivative term (rate of change of error)\n",
    "    d = (error - prev_error) / dt if dt > 0 else 0 \n",
    "    \n",
    "    # Compute PID output\n",
    "    output = (kp * p) + (ki * integral) + (kd * d)\n",
    "    \n",
    "    # Store error for next derivative calculation\n",
    "    prev_error = error\n",
    "    \n",
    "    return output"
   ]
  },
  {
   "cell_type": "code",
   "execution_count": 6,
   "id": "72cfdaa5",
   "metadata": {},
   "outputs": [],
   "source": [
    "# def controller(target_speed, current_speed):\n",
    "#     p = target_speed - current_speed\n",
    "#     d = p/dt\n",
    "#     i = current_speed * dt\n",
    "#     return kp*p  + ki*i + kd*d"
   ]
  },
  {
   "cell_type": "code",
   "execution_count": 7,
   "id": "34b90e4d",
   "metadata": {
    "scrolled": true
   },
   "outputs": [],
   "source": [
    "# define distance to obstacle\n",
    "# dist_init = 100\n",
    "\n",
    "# target = 80\n",
    "# current = vi\n",
    "# result = []\n",
    "# for t in np.arange(0, 100, dt):\n",
    "#     dist_remaining = dist_init - (current * t)\n",
    "\n",
    "#     # stopping condition\n",
    "#     if dist_remaining <= 0:\n",
    "#         current = 0 \n",
    "#         break\n",
    "\n",
    "#     # slow down car as it approaches obstacle\n",
    "#     if dist_remaining < (0.05 * dist_init):\n",
    "#         throttle *= 0.5\n",
    "    \n",
    "#     throttle = controller(target, current, dt)\n",
    "#     current = velocity(throttle, current)\n",
    "#     result.append([t,throttle,current])\n",
    "\n",
    "# target = 100\n",
    "# for t in np.arange(100, 150, dt):\n",
    "#     dist_remaining = dist_init - (current * t)\n",
    "\n",
    "#     # stopping condition\n",
    "#     if dist_remaining <= 0:\n",
    "#         current = 0 \n",
    "#         break\n",
    "\n",
    "#     # slow down car as it approaches obstacle\n",
    "#     if dist_remaining < (0.05 * dist_init):\n",
    "#         throttle *= 0.5\n",
    "        \n",
    "#     throttle = controller(target, current, dt)\n",
    "#     current = velocity(throttle, current)\n",
    "#     result.append([t,throttle,current])\n",
    "\n",
    "# target = 50\n",
    "# for t in np.arange(150, 250, dt):\n",
    "#     dist_remaining = dist_init - (current * t)\n",
    "\n",
    "#     # stopping condition\n",
    "#     if dist_remaining <= 0:\n",
    "#         current = 0 \n",
    "#         break\n",
    "\n",
    "#     # slow down car as it approaches obstacle\n",
    "#     if dist_remaining < (0.05 * dist_init):\n",
    "#         throttle *= 0.5\n",
    "        \n",
    "#     throttle = controller(target, current, dt)\n",
    "#     current = velocity(throttle, current)\n",
    "#     result.append([t,throttle,current])"
   ]
  },
  {
   "cell_type": "code",
   "execution_count": 8,
   "id": "dd23954a-ef27-4279-bbcc-0f4b30b2d9e6",
   "metadata": {},
   "outputs": [],
   "source": [
    "target_speeds = [80, 100, 50]  \n",
    "time_range_set = [(0, 100), (100, 150), (150, 250)] \n",
    "\n",
    "current = vi\n",
    "result = []\n",
    "\n",
    "for i, target in enumerate(target_speeds):\n",
    "    t_init, t_end = time_range_set[i] \n",
    "    \n",
    "    # Reset initial distance for each segment\n",
    "    initial_dist = 100  \n",
    "    \n",
    "    for t in np.arange(t_init, t_end, dt):\n",
    "        dist_remaining = initial_dist -  sum([res[2] * dt for res in result if res[0] >= t_init])  # Distance remaining\n",
    "\n",
    "        # Stop the car if it reaches obstacle\n",
    "        if dist_remaining <= 0:\n",
    "            current = 0  \n",
    "            break\n",
    "        \n",
    "        # slow down car when within 10 % of the target\n",
    "        if dist_remaining < (0.1 * initial_dist):\n",
    "            throttle = max(throttle - (0.01 * throttle), 0)\n",
    "\n",
    "        throttle = controller(target, current, dt)\n",
    "        current = max(velocity(throttle, current), 0)\n",
    "\n",
    "        result.append([t, throttle, current])"
   ]
  },
  {
   "cell_type": "code",
   "execution_count": 9,
   "id": "61c6e11a-f734-44dd-98b5-10ceb7f2e979",
   "metadata": {},
   "outputs": [
    {
     "data": {
      "image/png": "[encoded data removed]",
      "text/plain": [
       "<Figure size 640x480 with 1 Axes>"
      ]
     },
     "metadata": {},
     "output_type": "display_data"
    }
   ],
   "source": [
    "r = np.array(result)\n",
    "plt.plot(r[:, 0], r[:, 2], label=\"Speed\")\n",
    "plt.axhline(80, color=\"red\", linestyle=\"dashed\", label=\"Target 80\")\n",
    "plt.axhline(100, color=\"green\", linestyle=\"dashed\", label=\"Target 100\")\n",
    "plt.axhline(50, color=\"yellow\", linestyle=\"dashed\", label=\"Target 50\")\n",
    "\n",
    "plt.xlabel(\"Time (s)\")\n",
    "plt.ylabel(\"Speed\")\n",
    "plt.legend()\n",
    "plt.title(\"Car Speed vs Time with Obstacle Detection\")\n",
    "plt.show()"
   ]
  },
  {
   "cell_type": "code",
   "execution_count": null,
   "id": "ae573b8c",
   "metadata": {},
   "outputs": [],
   "source": []
  },
  {
   "cell_type": "code",
   "execution_count": null,
   "id": "a172d38f",
   "metadata": {},
   "outputs": [],
   "source": []
  }
 ],
 "metadata": {
  "kernelspec": {
   "display_name": "Python 3 (ipykernel)",
   "language": "python",
   "name": "python3"
  },
  "language_info": {
   "codemirror_mode": {
    "name": "ipython",
    "version": 3
   },
   "file_extension": ".py",
   "mimetype": "text/x-python",
   "name": "python",
   "nbconvert_exporter": "python",
   "pygments_lexer": "ipython3",
   "version": "3.10.8"
  }
 },
 "nbformat": 4,
 "nbformat_minor": 5
}
