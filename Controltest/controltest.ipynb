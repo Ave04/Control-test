{
 "cells": [
  {
   "cell_type": "code",
   "execution_count": 1,
   "id": "6b48350d",
   "metadata": {},
   "outputs": [],
   "source": [
    "%matplotlib inline\n",
    "import numpy as np\n",
    "from matplotlib import pyplot as plt"
   ]
  },
  {
   "cell_type": "code",
   "execution_count": 33,
   "id": "dec105c0",
   "metadata": {},
   "outputs": [],
   "source": [
    "mass = 1000\n",
    "vi = 0\n",
    "dt = 0.1\n",
    "cd = 0.1"
   ]
  },
  {
   "cell_type": "code",
   "execution_count": 49,
   "id": "b81327ed",
   "metadata": {},
   "outputs": [],
   "source": [
    "def velocity(throttle, current):\n",
    "    # print(throttle)\n",
    "    F = throttle - cd * current ** 2\n",
    "    a = F/mass\n",
    "    vf = current + a*dt + np.random.normal(0, 0.1)\n",
    "    return vf"
   ]
  },
  {
   "cell_type": "code",
   "execution_count": 50,
   "id": "f1806ccd",
   "metadata": {},
   "outputs": [],
   "source": [
    "kp = 500\n",
    "ki = 50\n",
    "kd = 20"
   ]
  },
  {
   "cell_type": "code",
   "execution_count": 46,
   "id": "72cfdaa5",
   "metadata": {},
   "outputs": [],
   "source": [
    "def controller(target_speed, current_speed):\n",
    "    p = target_speed - current_speed\n",
    "    d = p/dt\n",
    "    i = current_speed * dt\n",
    "    return kp*p + ki*i + kd*d"
   ]
  },
  {
   "cell_type": "code",
   "execution_count": 55,
   "id": "34b90e4d",
   "metadata": {
    "scrolled": true
   },
   "outputs": [],
   "source": [
    "target = 80\n",
    "current = vi\n",
    "result = []\n",
    "for t in np.arange(0, 100, dt):\n",
    "    throttle = controller(target, current)\n",
    "    current = velocity(throttle, current)\n",
    "    result.append([t,throttle,current])\n",
    "\n",
    "target = 100\n",
    "for t in np.arange(100, 150, dt):\n",
    "    throttle = controller(target, current)\n",
    "    current = velocity(throttle, current)\n",
    "    result.append([t,throttle,current])\n",
    "\n",
    "target = 50\n",
    "for t in np.arange(150, 250, dt):\n",
    "    throttle = controller(target, current)\n",
    "    current = velocity(throttle, current)\n",
    "    result.append([t,throttle,current])"
   ]
  },
  {
   "cell_type": "code",
   "execution_count": 56,
   "id": "ae573b8c",
   "metadata": {},
   "outputs": [
    {
     "data": {
      "text/plain": [
       "<matplotlib.lines.Line2D at 0x14dcff59950>"
      ]
     },
     "execution_count": 56,
     "metadata": {},
     "output_type": "execute_result"
    },
    {
     "data": {
      "image/png": "[encoded data removed]",
      "text/plain": [
       "<Figure size 640x480 with 1 Axes>"
      ]
     },
     "metadata": {},
     "output_type": "display_data"
    }
   ],
   "source": [
    "r = np.array(result)\n",
    "plt.plot(r[:,0], r[:,2])\n",
    "plt.axhline(80, color=\"red\")\n",
    "plt.axhline(100, color=\"red\")\n",
    "plt.axhline(50, color=\"red\")"
   ]
  },
  {
   "cell_type": "code",
   "execution_count": 8,
   "id": "85561d69",
   "metadata": {},
   "outputs": [
    {
     "data": {
      "text/plain": [
       "array([[ 0.        ,  8.        , -2.41435486],\n",
       "       [ 1.        ,  8.24143549,  1.2098215 ],\n",
       "       [ 2.        ,  7.87901785, -5.08395355],\n",
       "       [ 3.        ,  8.50839536, -7.38851297],\n",
       "       [ 4.        ,  8.7388513 , -5.09454393],\n",
       "       [ 5.        ,  8.50945439,  3.35659052],\n",
       "       [ 6.        ,  7.66434095, -2.90897142],\n",
       "       [ 7.        ,  8.29089714,  3.08068274],\n",
       "       [ 8.        ,  7.69193173,  0.02840517],\n",
       "       [ 9.        ,  7.99715948, -1.48461979]])"
      ]
     },
     "execution_count": 8,
     "metadata": {},
     "output_type": "execute_result"
    }
   ],
   "source": [
    "r"
   ]
  }
 ],
 "metadata": {
  "kernelspec": {
   "display_name": "Python 3 (ipykernel)",
   "language": "python",
   "name": "python3"
  },
  "language_info": {
   "codemirror_mode": {
    "name": "ipython",
    "version": 3
   },
   "file_extension": ".py",
   "mimetype": "text/x-python",
   "name": "python",
   "nbconvert_exporter": "python",
   "pygments_lexer": "ipython3",
   "version": "3.11.3"
  }
 },
 "nbformat": 4,
 "nbformat_minor": 5
}
